{
 "cells": [
  {
   "cell_type": "markdown",
   "id": "b8723c79",
   "metadata": {},
   "source": [
    "# Data Science Tools and Ecosystem"
   ]
  },
  {
   "cell_type": "markdown",
   "id": "bc663678",
   "metadata": {},
   "source": [
    "In this notebook, Data Science Tools and Ecosystem are summarized."
   ]
  },
  {
   "cell_type": "markdown",
   "id": "686e3e74",
   "metadata": {},
   "source": [
    "Some of the popular languages that Data Scientists use are:\n",
    "1. R.\n",
    "2. Julia\n",
    "3. Scala\n",
    "4. C/C++\n",
    "5. JavaScript\n",
    "6. Java\n",
    "7. SQL\n",
    "8. Python"
   ]
  },
  {
   "cell_type": "markdown",
   "id": "e611be9e",
   "metadata": {},
   "source": [
    "Some of the commonly used libraries used by Data Scientists include:\n",
    "1. Tensorflow\n",
    "2. Pandas\n",
    "3. Matplotlib\n",
    "4. PyTorch\n",
    "5. Theano\n",
    "6. SciPy\n",
    "7. Numpy"
   ]
  },
  {
   "cell_type": "markdown",
   "id": "8e7c72b1",
   "metadata": {},
   "source": [
    "| Data Science Tools |\n",
    "|--------------------|\n",
    "| Apache Spark       |\n",
    "| BigML              |\n",
    "| Jupyter Notebook   |\n",
    "| Rstudio            |"
   ]
  },
  {
   "cell_type": "markdown",
   "id": "5003d637",
   "metadata": {},
   "source": [
    "### Below are a few examples of evaluating arithmetic expressions in Python"
   ]
  },
  {
   "cell_type": "code",
   "execution_count": 1,
   "id": "5281dfcf",
   "metadata": {},
   "outputs": [
    {
     "name": "stdout",
     "output_type": "stream",
     "text": [
      "11\n"
     ]
    }
   ],
   "source": [
    "print(10-2+3)"
   ]
  },
  {
   "cell_type": "code",
   "execution_count": 2,
   "id": "d374010e",
   "metadata": {},
   "outputs": [
    {
     "name": "stdout",
     "output_type": "stream",
     "text": [
      "0\n"
     ]
    }
   ],
   "source": [
    "print(10%2)\n"
   ]
  },
  {
   "cell_type": "code",
   "execution_count": 4,
   "id": "2261e673",
   "metadata": {},
   "outputs": [
    {
     "name": "stdout",
     "output_type": "stream",
     "text": [
      "4\n"
     ]
    }
   ],
   "source": [
    "print((10%3)+3)"
   ]
  },
  {
   "cell_type": "markdown",
   "id": "1380302a",
   "metadata": {},
   "source": [
    "This a simple arithmetic expression to mutiply then add integers"
   ]
  },
  {
   "cell_type": "code",
   "execution_count": 5,
   "id": "5e9e051c",
   "metadata": {},
   "outputs": [
    {
     "data": {
      "text/plain": [
       "17"
      ]
     },
     "execution_count": 5,
     "metadata": {},
     "output_type": "execute_result"
    }
   ],
   "source": [
    "(3*4)+5"
   ]
  },
  {
   "cell_type": "markdown",
   "id": "db846cec",
   "metadata": {},
   "source": [
    "This will convert 200 minutes to hours by diving by 60"
   ]
  },
  {
   "cell_type": "code",
   "execution_count": 10,
   "id": "edffe4ee",
   "metadata": {},
   "outputs": [
    {
     "name": "stdout",
     "output_type": "stream",
     "text": [
      "hours =3.3333333333333335\n"
     ]
    }
   ],
   "source": [
    "a=200/60\n",
    "print(\"hours =\"+str(a))"
   ]
  },
  {
   "cell_type": "markdown",
   "id": "cc11689e",
   "metadata": {},
   "source": [
    "Objectives:\n",
    "1. List popular languages for Data Science\n",
    "R.\n",
    "Julia\n",
    "Scala\n",
    "C/C++\n",
    "\n",
    "2. commenly used libraries\n",
    "Tensorflow\n",
    "Pandas\n",
    "Matplotlib\n",
    "\n",
    "3. arithmetic operation\n",
    "+,-,%\n",
    "\n",
    "4. also to understand how to use jupyter notebooks"
   ]
  },
  {
   "cell_type": "markdown",
   "id": "514d6721",
   "metadata": {},
   "source": [
    "## Author\n",
    "Ankit"
   ]
  }
 ],
 "metadata": {
  "kernelspec": {
   "display_name": "Python 3 (ipykernel)",
   "language": "python",
   "name": "python3"
  },
  "language_info": {
   "codemirror_mode": {
    "name": "ipython",
    "version": 3
   },
   "file_extension": ".py",
   "mimetype": "text/x-python",
   "name": "python",
   "nbconvert_exporter": "python",
   "pygments_lexer": "ipython3",
   "version": "3.10.9"
  }
 },
 "nbformat": 4,
 "nbformat_minor": 5
}
